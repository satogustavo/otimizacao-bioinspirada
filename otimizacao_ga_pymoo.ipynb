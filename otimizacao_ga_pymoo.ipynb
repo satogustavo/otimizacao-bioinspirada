{
 "cells": [
  {
   "cell_type": "code",
   "execution_count": 1,
   "id": "50ded996",
   "metadata": {},
   "outputs": [],
   "source": [
    "# Especifando o problema das hidros no pymoo\n",
    "\n",
    "import numpy as np\n",
    "from pymoo.core.problem import Problem\n",
    "\n",
    "\n",
    "\n",
    "\n",
    "\n",
    "class ProblemaHidro(Problem):\n",
    "    \n",
    "\n",
    "    \n",
    "    def __init__(self):\n",
    "        \"\"\"\n",
    "            x[0] -> t1\n",
    "            x[1] -> t2\n",
    "            x[2] -> t3\n",
    "            x[3] -> x1\n",
    "            x[4] -> x2\n",
    "            x[5] -> x3    \n",
    "        \"\"\"\n",
    "        lb = np.array([0,0,0,\n",
    "                       0,0,0])\n",
    "    \n",
    "        ub = np.array([1000,1000,1000,\n",
    "                       800,1000,1000]) # 0 <=x1<=800\n",
    "        super().__init__(n_var=6, #numero de variaveis\n",
    "                         n_obj=1, #numero de objetivos\n",
    "                         n_ieq_constr=7, #numero de restricoes de ineq\n",
    "                         xl=lb, #lower bound de x\n",
    "                         xu=ub) #uppper bound de x        \n",
    "\n",
    "    def _evaluate(self, x, out, *args, **kwargs):\n",
    "        #v0=500\n",
    "        #obs x1 -> x[6]; x2 -> x[7] ; x3 -> x[8]\n",
    "        \n",
    "        #0.2*(t1 + t2 +t3) + 0.005*(|v1 - v0| + |v2 - v1| + |v3 - v2|)\n",
    "        f1 = 0.2*(x[:,0]+x[:,1]+x[:,2]) +  0.005* abs(500-x[:,3])+ abs(800-x[:,4])+ abs(200-x[:,5])\n",
    "        \n",
    "        out[\"F\"] = [f1]  # 'F' armazena função objetivo\n",
    "        \n",
    "        \n",
    "        \n",
    "         #restrições de inigualdade de demanda\n",
    "        # 1.1*x1 + t1 >= 900;\n",
    "        req5 = -1.1*x[:,3] - x[:,0] + 900\n",
    "        \n",
    "        #1.1*x2 + t2 >= 1000;\n",
    "        req6 = -1.1*x[:,4] - x[:,1] + 1000;\n",
    "        \n",
    "        #1.1*x3 + t3 >= 950;\n",
    "        req7 =  -1.1*x[:,5] - x[:,2] + 950;\n",
    "        \n",
    "        #800 - x1 - x2 <= 0\n",
    "        req1 =  800-x[:,3] - x[:,4]\n",
    "        \n",
    "        # x1+x2-1600 <=0\n",
    "        req2 =  x[:,3]+x[:,4]-1600\n",
    "        \n",
    "        #- x1-x2-x3 + 1000<=  0\n",
    "        req3 =  -x[:,3]-x[:,4]-x[:,5]+1000\n",
    "        \n",
    "        # x1+x2+x3  - 1800 <= 0\n",
    "        req4 = x[:,3]+x[:,4]+x[:,5]-1800\n",
    "        \n",
    "        \n",
    "        out[\"G\"] = [req1,req2, req3,req4,req5,req6,req7] # 'G' restricões ineq\n",
    "        #out[\"G\"] = np.column_stack([req1,req2, req3,\n",
    "        #                            req4,req5,req6,req7]) # 'G' restricões ineq\n",
    "        \n",
    "        \n",
    "      \n",
    "        \n",
    "        \n",
    "\n",
    "\n",
    "meuproblema = ProblemaHidro()"
   ]
  },
  {
   "cell_type": "code",
   "execution_count": 2,
   "id": "03885cbd",
   "metadata": {
    "scrolled": true
   },
   "outputs": [
    {
     "name": "stdout",
     "output_type": "stream",
     "text": [
      "Best solution found: \n",
      "X = [ 20.22505017 120.00219372 730.11267678 799.79575852 800.04146301\n",
      " 200.0006263 ]\n",
      "F = [175.60905224]\n",
      "\n",
      "            t1 -> 20.22505016664958 \n",
      "            t2 -> 120.00219371630213 \n",
      "            t3 -> 730.1126767837978 \n",
      "            x1 -> 799.7957585207764 \n",
      "            x2 -> 800.0414630134828 \n",
      "            x3 -> 200.0006263025359 \n",
      "CPU times: user 3.46 s, sys: 643 ms, total: 4.11 s\n",
      "Wall time: 3.15 s\n"
     ]
    }
   ],
   "source": [
    "%%time\n",
    "\n",
    "from pymoo.algorithms.soo.nonconvex.ga import GA\n",
    "from pymoo.operators.crossover.pntx import TwoPointCrossover\n",
    "\n",
    "from pymoo.operators.mutation.pm import PolynomialMutation\n",
    "from pymoo.operators.sampling.rnd import FloatRandomSampling\n",
    "\n",
    "from pymoo.termination import get_termination\n",
    "\n",
    "from pymoo.optimize import minimize\n",
    "\n",
    "\n",
    "ga = GA(\n",
    "    pop_size=100,\n",
    "    eliminate_duplicates=True,\n",
    "    Verbose=True)\n",
    "\n",
    "termination = get_termination(\"time\", \"00:00:03\")\n",
    "res = minimize(meuproblema,\n",
    "               ga,\n",
    "               seed=333,\n",
    "               #verbose=True,\n",
    "               termination=termination,\n",
    "               save_history=True)\n",
    "\n",
    "print(\"Best solution found: \\nX = %s\\nF = %s\" % (res.X, res.F))\n",
    "\n",
    "print(f'''\n",
    "            t1 -> {res.X[0]} \n",
    "            t2 -> {res.X[1]} \n",
    "            t3 -> {res.X[2]} \n",
    "            x1 -> {res.X[3]} \n",
    "            x2 -> {res.X[4]} \n",
    "            x3 -> {res.X[5]} ''')\n",
    "\n",
    "     "
   ]
  },
  {
   "cell_type": "code",
   "execution_count": 3,
   "id": "72e1f250",
   "metadata": {},
   "outputs": [
    {
     "data": {
      "image/png": "[encoded data removed]",
      "text/plain": [
       "<Figure size 640x480 with 1 Axes>"
      ]
     },
     "metadata": {},
     "output_type": "display_data"
    },
    {
     "data": {
      "text/plain": [
       "18000"
      ]
     },
     "execution_count": 3,
     "metadata": {},
     "output_type": "execute_result"
    }
   ],
   "source": [
    "import numpy as np\n",
    "import matplotlib.pyplot as plt\n",
    "\n",
    "n_evals = np.array([e.evaluator.n_eval for e in res.history])\n",
    "opt = np.array([e.opt[0].F for e in res.history])\n",
    "\n",
    "plt.title(\"Convergência\")\n",
    "plt.plot(n_evals, opt, \"--\")\n",
    "#plt.yscale(\"log\")\n",
    "plt.show()\n",
    "max(n_evals)"
   ]
  },
  {
   "cell_type": "code",
   "execution_count": 4,
   "id": "726a9872",
   "metadata": {},
   "outputs": [
    {
     "name": "stdout",
     "output_type": "stream",
     "text": [
      "900.0003845395037\n",
      "1000.0478030311333\n",
      "950.1133657165874\n"
     ]
    }
   ],
   "source": [
    "# verficando restricoes\n",
    "\n",
    "r = dict()\n",
    "r['t1'] = res.X[0]\n",
    "r['t2']     = res.X[1]\n",
    "r['t3']  = res.X[2] \n",
    "r['x1'] = res.X[3] \n",
    "r['x2'] =res.X[4] \n",
    "r['x3'] =res.X[5]\n",
    "\n",
    "print(1.1*r['x1'] + r['t1']) # >= 900;\n",
    "print(1.1*r['x2'] + r['t2'])  #  >= 1000;\n",
    "print(1.1*r['x3'] + r['t3'])  # >=950;\n",
    "\n"
   ]
  },
  {
   "cell_type": "code",
   "execution_count": null,
   "id": "8f3461a5",
   "metadata": {},
   "outputs": [],
   "source": []
  }
 ],
 "metadata": {
  "kernelspec": {
   "display_name": "Python 3 (ipykernel)",
   "language": "python",
   "name": "python3"
  },
  "language_info": {
   "codemirror_mode": {
    "name": "ipython",
    "version": 3
   },
   "file_extension": ".py",
   "mimetype": "text/x-python",
   "name": "python",
   "nbconvert_exporter": "python",
   "pygments_lexer": "ipython3",
   "version": "3.10.9"
  }
 },
 "nbformat": 4,
 "nbformat_minor": 5
}
